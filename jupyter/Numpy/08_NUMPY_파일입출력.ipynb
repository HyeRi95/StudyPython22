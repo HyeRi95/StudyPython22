{
 "cells": [
  {
   "cell_type": "markdown",
   "id": "8d103885",
   "metadata": {},
   "source": [
    "# 파일 입출력 "
   ]
  },
  {
   "cell_type": "markdown",
   "id": "34098ef7",
   "metadata": {},
   "source": [
    "## 파일처리"
   ]
  },
  {
   "cell_type": "markdown",
   "id": "e27dc696",
   "metadata": {},
   "source": [
    "ndarrary의 정보를 파일로 저장할 수 있다"
   ]
  },
  {
   "cell_type": "markdown",
   "id": "bbe0a744",
   "metadata": {},
   "source": [
    "일반적인 파일 확장자는 npy를 사용한다"
   ]
  },
  {
   "cell_type": "markdown",
   "id": "2dd524db",
   "metadata": {},
   "source": [
    "> 파일저장(tofile)"
   ]
  },
  {
   "cell_type": "code",
   "execution_count": 5,
   "id": "6b9937cb",
   "metadata": {},
   "outputs": [
    {
     "name": "stdout",
     "output_type": "stream",
     "text": [
      "[[-0.45021034  0.01404065 -0.92600124 -0.35074008  1.04900629]\n",
      " [-0.68134128 -0.53993554  0.20884546 -0.1023329   2.48757503]\n",
      " [-1.63058113 -0.20804777  0.72446725  0.16439305  0.03936667]]\n"
     ]
    }
   ],
   "source": [
    "import numpy as np\n",
    "n = np.random.randn(3,5)\n",
    "print(n)\n",
    "n.tofile('n.npy')"
   ]
  },
  {
   "cell_type": "markdown",
   "id": "77e35df9",
   "metadata": {},
   "source": [
    "> 파일 불러오기(fromfile)"
   ]
  },
  {
   "cell_type": "code",
   "execution_count": 8,
   "id": "3a9e67cb",
   "metadata": {},
   "outputs": [
    {
     "name": "stdout",
     "output_type": "stream",
     "text": [
      "[-0.45021034  0.01404065 -0.92600124 -0.35074008  1.04900629 -0.68134128\n",
      " -0.53993554  0.20884546 -0.1023329   2.48757503 -1.63058113 -0.20804777\n",
      "  0.72446725  0.16439305  0.03936667]\n"
     ]
    }
   ],
   "source": [
    "m = np.fromfile('C:/STUDY/StudyPython22/jupyter/Numpy/n.npy')\n",
    "print(m)"
   ]
  },
  {
   "cell_type": "markdown",
   "id": "eafbf56d",
   "metadata": {},
   "source": [
    "> 파일저장, 불러오기 (np.save, np.load)"
   ]
  },
  {
   "cell_type": "code",
   "execution_count": 9,
   "id": "ad98c91f",
   "metadata": {},
   "outputs": [
    {
     "name": "stdout",
     "output_type": "stream",
     "text": [
      "[[-0.45021034  0.01404065 -0.92600124 -0.35074008  1.04900629]\n",
      " [-0.68134128 -0.53993554  0.20884546 -0.1023329   2.48757503]\n",
      " [-1.63058113 -0.20804777  0.72446725  0.16439305  0.03936667]]\n"
     ]
    }
   ],
   "source": [
    "np.save('n1.npy',n)\n",
    "m1 = np.load('n1.npy')\n",
    "print(m1)"
   ]
  },
  {
   "cell_type": "code",
   "execution_count": 10,
   "id": "9a93f52f",
   "metadata": {},
   "outputs": [
    {
     "ename": "ValueError",
     "evalue": "Cannot load file containing pickled data when allow_pickle=False",
     "output_type": "error",
     "traceback": [
      "\u001b[1;31m---------------------------------------------------------------------------\u001b[0m",
      "\u001b[1;31mValueError\u001b[0m                                Traceback (most recent call last)",
      "Input \u001b[1;32mIn [10]\u001b[0m, in \u001b[0;36m<cell line: 3>\u001b[1;34m()\u001b[0m\n\u001b[0;32m      1\u001b[0m \u001b[38;5;66;03m# n.tofile > n.npy\u001b[39;00m\n\u001b[0;32m      2\u001b[0m \u001b[38;5;66;03m# np.load('n.npy')\u001b[39;00m\n\u001b[1;32m----> 3\u001b[0m \u001b[43mnp\u001b[49m\u001b[38;5;241;43m.\u001b[39;49m\u001b[43mload\u001b[49m\u001b[43m(\u001b[49m\u001b[38;5;124;43m'\u001b[39;49m\u001b[38;5;124;43mn.npy\u001b[39;49m\u001b[38;5;124;43m'\u001b[39;49m\u001b[43m)\u001b[49m\n",
      "File \u001b[1;32mC:\\anaconda\\lib\\site-packages\\numpy\\lib\\npyio.py:445\u001b[0m, in \u001b[0;36mload\u001b[1;34m(file, mmap_mode, allow_pickle, fix_imports, encoding)\u001b[0m\n\u001b[0;32m    442\u001b[0m \u001b[38;5;28;01melse\u001b[39;00m:\n\u001b[0;32m    443\u001b[0m     \u001b[38;5;66;03m# Try a pickle\u001b[39;00m\n\u001b[0;32m    444\u001b[0m     \u001b[38;5;28;01mif\u001b[39;00m \u001b[38;5;129;01mnot\u001b[39;00m allow_pickle:\n\u001b[1;32m--> 445\u001b[0m         \u001b[38;5;28;01mraise\u001b[39;00m \u001b[38;5;167;01mValueError\u001b[39;00m(\u001b[38;5;124m\"\u001b[39m\u001b[38;5;124mCannot load file containing pickled data \u001b[39m\u001b[38;5;124m\"\u001b[39m\n\u001b[0;32m    446\u001b[0m                          \u001b[38;5;124m\"\u001b[39m\u001b[38;5;124mwhen allow_pickle=False\u001b[39m\u001b[38;5;124m\"\u001b[39m)\n\u001b[0;32m    447\u001b[0m     \u001b[38;5;28;01mtry\u001b[39;00m:\n\u001b[0;32m    448\u001b[0m         \u001b[38;5;28;01mreturn\u001b[39;00m pickle\u001b[38;5;241m.\u001b[39mload(fid, \u001b[38;5;241m*\u001b[39m\u001b[38;5;241m*\u001b[39mpickle_kwargs)\n",
      "\u001b[1;31mValueError\u001b[0m: Cannot load file containing pickled data when allow_pickle=False"
     ]
    }
   ],
   "source": [
    "# n.tofile 저장한 n.npy \n",
    "# np.load('n.npy') 오류 \n",
    "np.load('n.npy') "
   ]
  },
  {
   "cell_type": "code",
   "execution_count": null,
   "id": "45d4040f",
   "metadata": {},
   "outputs": [],
   "source": []
  },
  {
   "cell_type": "code",
   "execution_count": null,
   "id": "c56792c7",
   "metadata": {},
   "outputs": [],
   "source": []
  },
  {
   "cell_type": "code",
   "execution_count": null,
   "id": "6a111c85",
   "metadata": {},
   "outputs": [],
   "source": []
  },
  {
   "cell_type": "code",
   "execution_count": null,
   "id": "67374e11",
   "metadata": {},
   "outputs": [],
   "source": []
  },
  {
   "cell_type": "code",
   "execution_count": null,
   "id": "a9791d70",
   "metadata": {},
   "outputs": [],
   "source": []
  }
 ],
 "metadata": {
  "kernelspec": {
   "display_name": "Python 3 (ipykernel)",
   "language": "python",
   "name": "python3"
  },
  "language_info": {
   "codemirror_mode": {
    "name": "ipython",
    "version": 3
   },
   "file_extension": ".py",
   "mimetype": "text/x-python",
   "name": "python",
   "nbconvert_exporter": "python",
   "pygments_lexer": "ipython3",
   "version": "3.9.12"
  }
 },
 "nbformat": 4,
 "nbformat_minor": 5
}
