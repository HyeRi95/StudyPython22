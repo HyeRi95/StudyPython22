{
 "cells": [
  {
   "cell_type": "markdown",
   "metadata": {},
   "source": [
    "# 책대여점 on JupyterNotebook"
   ]
  },
  {
   "cell_type": "markdown",
   "metadata": {},
   "source": [
    "만약  cx_oracle 모듈이 없으면 콘솔에서 설치할 것\n",
    "``` shell\n",
    "> pip install cx_oracle\n",
    "```"
   ]
  },
  {
   "cell_type": "code",
   "execution_count": 13,
   "metadata": {},
   "outputs": [],
   "source": [
    "# cx_Oracle 모듈 첨부 \n",
    "import cx_Oracle as ora"
   ]
  },
  {
   "cell_type": "markdown",
   "metadata": {},
   "source": [
    "### DB 연결함수\n",
    "사용법\n",
    "``` python\n",
    "myconn()\n",
    "```"
   ]
  },
  {
   "cell_type": "code",
   "execution_count": 14,
   "metadata": {},
   "outputs": [],
   "source": [
    "def myconn():\n",
    "    dsn = ora.makedsn('localhost', 1521, service_name ='orcl')\n",
    "    conn = ora.connect(user ='scott', password = 'tiger', dsn=dsn, encoding='utf-8')\n",
    "    return conn"
   ]
  },
  {
   "cell_type": "markdown",
   "metadata": {},
   "source": [
    "### Divtbl 전체조회 함수\n",
    "사용법\n",
    "``` python\n",
    "getAllDateFromDivtbl(conn) ## conn은 연결객체\n",
    "```"
   ]
  },
  {
   "cell_type": "code",
   "execution_count": 15,
   "metadata": {},
   "outputs": [],
   "source": [
    "def getAllDateFromDivtbl(conn) ->None:\n",
    "    cur = conn.cursor()\n",
    "    query = 'SELECT division, names FROM divtbl'\n",
    "    \n",
    "    for row in cur.execute(query):\n",
    "        print(row)\n",
    "\n",
    "    cur.close()\n",
    "    "
   ]
  },
  {
   "cell_type": "code",
   "execution_count": 16,
   "metadata": {},
   "outputs": [
    {
     "name": "stdout",
     "output_type": "stream",
     "text": [
      "접속\n",
      "('I002', '자기계발')\n",
      "('B001', '공포/스릴러')\n",
      "('B002', '로맨스')\n",
      "('B003', '무협')\n",
      "('B004', '전쟁/역사')\n",
      "('B005', '추리')\n",
      "('B006', 'SF/판타지')\n",
      "('I001', '프로그래밍')\n",
      "('I003', '에세이')\n",
      "('I004', '재테크')\n",
      "('I005', '어린이')\n"
     ]
    }
   ],
   "source": [
    "# DB 연결 실행\n",
    "conn = myconn()\n",
    "print('접속')\n",
    "\n",
    "getAllDateFromDivtbl(conn)"
   ]
  },
  {
   "cell_type": "markdown",
   "metadata": {},
   "source": [
    "### 신규장르 입력 \n",
    "사용법\n",
    "```python\n",
    "tup =(division, names)\n",
    "setDataIntoDivtbl(conn,tup)\n",
    "```"
   ]
  },
  {
   "cell_type": "code",
   "execution_count": null,
   "metadata": {},
   "outputs": [],
   "source": [
    "def setDataIntoDivtbl(conn, tup):\n",
    "    cur = conn.cursor()\n",
    "    query = 'INSERT INTO divtbl VALUES (:1, :2)'\n",
    "    cur.execute(query,tup)\n",
    "    conn.commit()\n",
    "    cur.close()\n",
    "\n",
    "division, names = input('장르코드, 장르명 입력(구분자,)').split(',')\n",
    "tup=(division.strip(), names.strip())\n",
    "setDataIntoDivtbl(conn, tup)\n",
    "print('장르 추가 성공')\n",
    "getAllDateFromDivtbl(conn)"
   ]
  },
  {
   "cell_type": "code",
   "execution_count": 19,
   "metadata": {},
   "outputs": [],
   "source": [
    "def getAllDateFromBookstbl(conn) -> None:\n",
    "    cur = conn.cursor()\n",
    "    query = 'SELECT idx, author, division, names, ' \\\n",
    "            '   TO_CHAR(releasedate, \\'YYYY-MM_DD\\') ' \\\n",
    "            ' FROM bookstbl ' \\\n",
    "            ' ORDER BY idx ASC '    \n",
    "    \n",
    "    for row in cur.execute(query):\n",
    "        print(row)\n",
    "\n",
    "    cur.close()"
   ]
  },
  {
   "cell_type": "code",
   "execution_count": 20,
   "metadata": {},
   "outputs": [
    {
     "name": "stdout",
     "output_type": "stream",
     "text": [
      "(1, '넬레 노이하우스', 'B001', '잔혹한 어머니의 날 1', '2019-10_07')\n",
      "(2, '넬레 노이하우스', 'B001', '잔혹한 어머니의 날 2', '2019-10_07')\n",
      "(3, '매뉴 라인하트', 'B006', '월드 오브 워크래프트 팝업북', '2019-10_21')\n",
      "(4, '묵향동후', 'B003', '마도조사 2', '2019-09_03')\n",
      "(5, '오코제키 다이', 'B005', '루팡의 딸', '2019-09_25')\n",
      "(6, '조엘 디케르', 'B001', '스테파니 메일러 실종사건', '2019-08_12')\n",
      "(7, '이지환', 'B002', '닥터 퀸 1-2세트', '2019-09_20')\n",
      "(8, '김수지', 'B002', '희란국 연가', '2019-11_01')\n",
      "(9, '알파타르트', 'B002', '재혼 황후 1', '2019-10_18')\n",
      "(10, '안나 토드', 'B002', '애프터 7', '2019-08_30')\n",
      "(11, '안타 토드', 'B002', '애프터 8', '2019-08_30')\n",
      "(12, '남혜인', 'B002', '아도니스 11', '2019-08_26')\n",
      "(13, '안드레아스 빙겔만', 'B001', '쉐어하우스', '2019-09_27')\n",
      "(14, '비프케 로렌츠', 'B001', '너도 곧 쉬게 될 거야', '2019-09_18')\n",
      "(15, '전건우', 'B001', '어위크', '2019-09_02')\n",
      "(16, '토머스 해리스', 'B005', '카리 모라', '2019-09_11')\n",
      "(17, '토머스 해리스', 'B005', '한니발', '2019-09_11')\n",
      "(18, '정준', 'B003', '화산전생 17', '2019-08_23')\n",
      "(19, '묵향동후', 'B003', '마도조사 1', '2019-07_30')\n",
      "(20, '용대운', 'B003', '군림천사 35', '2019-07_26')\n",
      "(21, '정준', 'B003', '화산전생 15', '2019-04_30')\n",
      "(22, '김석진', 'B003', '삼류무사 2부16', '2019-04_02')\n",
      "(23, '히가시노 게이고', 'B006', '기도의 막이 내릴 때', '2019-08_06')\n",
      "(24, '히가시노 게이고', 'B006', '악의', '2019-07_25')\n",
      "(25, '서철원', 'B004', '최후의 만찬', '2019-09_25')\n",
      "(26, '마이 셰발, 페르 발뢰', 'B004', '어느 끔찍한 남자', '2019-09_20')\n",
      "(27, '마이 셰발, 페르 발뢰', 'B004', '폴리스, 폴리스, 포타티스모스!', '2019-09_20')\n",
      "(28, '김진명', 'B004', '살수 1', '2019-09_16')\n",
      "(29, '김진명', 'B004', '살수 2', '2019-09_16')\n",
      "(30, '손정미', 'B004', '도공 서란', '2019-09_16')\n",
      "(31, '요안나', 'B002', '순수하지 않은 감각', '2019-10_02')\n",
      "(32, '노승아', 'B002', '오늘부터 천생연분 1', '2019-09_18')\n",
      "(33, '노승아', 'B002', '오늘부터 천생연분 2', '2019-09_18')\n",
      "(34, '김이랑', 'B002', '조선혼담공작소 꽃파당', '2019-09_06')\n",
      "(35, '전민석', 'B004', '감치', '2019-08_15')\n",
      "(36, '나관중', 'B004', '삼국지 세트', '2019-07_25')\n",
      "(37, '에리크 뷔야르', 'B004', '그날의 비밀', '2019-07_20')\n",
      "(38, '요 네스뵈', 'B004', '폴리스', '2019-07_08')\n",
      "(39, 'T. M. 로건', 'B005', '29초', '2019-09_18')\n",
      "(40, '토머스 해리스', 'B005', '양들의 침묵', '2019-09_11')\n",
      "(41, '송시우', 'B005', '대나무가 우는 섬', '2019-09_06')\n",
      "(42, 'A. J. 핀', 'B005', '우먼 인 윈도', '2019-09_03')\n",
      "(43, '이정명', 'B005', '밤의 양들 1', '2019-08_30')\n",
      "(44, '이정명', 'B005', '밤의 양들 2', '2019-08_30')\n",
      "(45, '정해연', 'B005', '내가 죽였다', '2019-08_21')\n",
      "(46, '정준', 'B003', '화산전생 16', '2019-07_19')\n",
      "(47, '무공진', 'B003', '화중매 상하 세트', '2019-07_15')\n",
      "(48, '촌부', 'B003', '천애협로 10', '2019-06_03')\n",
      "(49, '손선영', 'B003', '소암, 바람의 노래', '2019-05_17')\n",
      "(50, '전민희', 'B006', '룬의 아이들 블러디드 2', '2019-09_25')\n",
      "(51, '요나스 요나손', 'B006', '핵을 들고 도망친 101세 노인', '2019-09_25')\n",
      "(52, '닐 셔스터먼, 재러드 셔스터먼', 'B006', '드라이', '2019-09_20')\n",
      "(53, '스테파니 버지스', 'B006', '초콜릿 하트 드래곤', '2019-09_04')\n",
      "(54, '브누아 필리퐁', 'B001', '루거 총을 든 할머니', '2019-07_30')\n",
      "(55, '캐서린 스테드먼', 'B001', '썸씽 인 더 워터', '2019-07_24')\n",
      "(56, '에이미 몰로이', 'B001', '퍼펙트 마더', '2019-07_22')\n",
      "(57, '지건, 콕콕', 'B001', '잔혹동화', '2019-07_20')\n",
      "(58, '류츠신', 'B006', '삼체 3', '2019-09_25')\n",
      "(59, '히가시노 게이고', 'B006', '방과 후', '2019-07_10')\n"
     ]
    }
   ],
   "source": [
    "getAllDateFromBookstbl(conn) # 실행 "
   ]
  },
  {
   "cell_type": "code",
   "execution_count": 21,
   "metadata": {},
   "outputs": [],
   "source": [
    "def getDateFromBookstbl(conn) -> None:\n",
    "    names = input('검색할 책이름을 입력하세요.')\n",
    "\n",
    "    cur = conn.cursor()\n",
    "    query = f'SELECT idx, author, division, names, ' \\\n",
    "            '   TO_CHAR(releasedate, \\'YYYY-MM_DD\\') ' \\\n",
    "            ' FROM bookstbl ' \\\n",
    "            f' WHERE names LIKE \\'%{names}%\\' ' \\\n",
    "            ' ORDER BY idx ASC ' # f 중요     \n",
    "    \n",
    "    for row in cur.execute(query):\n",
    "        print(row)\n",
    "\n",
    "    cur.close()"
   ]
  },
  {
   "cell_type": "code",
   "execution_count": 22,
   "metadata": {},
   "outputs": [
    {
     "name": "stdout",
     "output_type": "stream",
     "text": [
      "(10, '안나 토드', 'B002', '애프터 7', '2019-08_30')\n",
      "(11, '안타 토드', 'B002', '애프터 8', '2019-08_30')\n"
     ]
    }
   ],
   "source": [
    "getDateFromBookstbl(conn)"
   ]
  },
  {
   "cell_type": "markdown",
   "metadata": {},
   "source": [
    "### 삭제함수\n",
    "사용법\n",
    "```python\n",
    "delDataFromDivtbl(conn):\n",
    "```"
   ]
  },
  {
   "cell_type": "code",
   "execution_count": 27,
   "metadata": {},
   "outputs": [],
   "source": [
    "def delDataFromDivtbl(conn):\n",
    "    division = input('삭제할 코드명 입력(예 : I004)')\n",
    "    cur = conn.cursor()\n",
    "    query = 'DELETE FROM divtbl WHERE division = :1'\n",
    "    tup =(division, ) # tuple 하나짜리는 왼쪽처럼 만들어야 한다 조심!!! \n",
    "    cur.execute(query,tup)\n",
    "    conn.commit()\n",
    "    print('삭제 성공')\n",
    "    cur.close()"
   ]
  },
  {
   "cell_type": "code",
   "execution_count": 28,
   "metadata": {},
   "outputs": [
    {
     "name": "stdout",
     "output_type": "stream",
     "text": [
      "삭제 성공\n"
     ]
    }
   ],
   "source": [
    "delDataFromDivtbl(conn)"
   ]
  },
  {
   "cell_type": "code",
   "execution_count": 29,
   "metadata": {},
   "outputs": [
    {
     "name": "stdout",
     "output_type": "stream",
     "text": [
      "('I002', '자기계발')\n",
      "('B001', '공포/스릴러')\n",
      "('B002', '로맨스')\n",
      "('B003', '무협')\n",
      "('B004', '전쟁/역사')\n",
      "('B005', '추리')\n",
      "('B006', 'SF/판타지')\n",
      "('I001', '프로그래밍')\n",
      "('I003', '에세이')\n",
      "('I004', '재테크')\n"
     ]
    }
   ],
   "source": [
    "getAllDateFromDivtbl(conn)"
   ]
  }
 ],
 "metadata": {
  "interpreter": {
   "hash": "38ae1ba9371524da054e8e3fbefd778d16b5a8ac7937a3f395010f627bb73919"
  },
  "kernelspec": {
   "display_name": "Python 3.9.12 64-bit",
   "language": "python",
   "name": "python3"
  },
  "language_info": {
   "codemirror_mode": {
    "name": "ipython",
    "version": 3
   },
   "file_extension": ".py",
   "mimetype": "text/x-python",
   "name": "python",
   "nbconvert_exporter": "python",
   "pygments_lexer": "ipython3",
   "version": "3.9.12"
  },
  "orig_nbformat": 4
 },
 "nbformat": 4,
 "nbformat_minor": 2
}
