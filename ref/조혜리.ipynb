{
 "cells": [
  {
   "cell_type": "markdown",
   "metadata": {},
   "source": [
    "### 1번문제\n"
   ]
  },
  {
   "cell_type": "code",
   "execution_count": 75,
   "metadata": {},
   "outputs": [
    {
     "name": "stdout",
     "output_type": "stream",
     "text": [
      "반지름이 4인 원의 넓이는 50.265472 입니다.\n"
     ]
    }
   ],
   "source": [
    "# 1번문제 \n",
    "def circle_s (r):\n",
    "    res = 3.141592 * r ** 2\n",
    "    return res \n",
    "\n",
    "n = int(input('넓이를 구하고 싶은 원의 반지름 값을 입력하세요 : '))\n",
    "\n",
    "print('반지름이',f'{n}인 원의 넓이는',circle_s(n),'입니다.')\n",
    "\n",
    "\n"
   ]
  },
  {
   "cell_type": "markdown",
   "metadata": {},
   "source": [
    "### 2번문제"
   ]
  },
  {
   "cell_type": "code",
   "execution_count": 60,
   "metadata": {},
   "outputs": [
    {
     "name": "stdout",
     "output_type": "stream",
     "text": [
      "지구의 영어 이름은 Earth 입니다.\n"
     ]
    }
   ],
   "source": [
    "# 2번문제\n",
    "dic = {'수성' : 'Mercury', '금성' : 'Venus', '지구' : 'Earth', '화성':'Mars',\n",
    "        '목성' : 'Jupiter', '토성' : 'Saturn', '천왕성' : 'Uranus', '혜왕성': 'Neptune'}\n",
    "name = input('찾을 행성의 이름을 한글로 적으세요')\n",
    "print(f'{name}의 영어 이름은',dic[name],'입니다.' )"
   ]
  },
  {
   "cell_type": "markdown",
   "metadata": {},
   "source": [
    "### 3번문제"
   ]
  },
  {
   "cell_type": "code",
   "execution_count": 87,
   "metadata": {},
   "outputs": [
    {
     "name": "stdout",
     "output_type": "stream",
     "text": [
      "흐르는 강물을 거꾸로 거슬러 올라가는 연어들 = 6\n"
     ]
    }
   ],
   "source": [
    "# 3번문제\n",
    "text = input('글자를 입력하세요')\n",
    "\n",
    "result = len(text.split())\n",
    "\n",
    "print( text, '=',str(result))"
   ]
  },
  {
   "cell_type": "markdown",
   "metadata": {},
   "source": [
    "### 4번문제"
   ]
  },
  {
   "cell_type": "code",
   "execution_count": 85,
   "metadata": {},
   "outputs": [
    {
     "name": "stdout",
     "output_type": "stream",
     "text": [
      "2 9 5 4 1\n"
     ]
    }
   ],
   "source": [
    "# 4번문제\n",
    "n = input('숫자를 입력해주세요')\n",
    "print(n[::-1]) "
   ]
  },
  {
   "cell_type": "markdown",
   "metadata": {},
   "source": [
    "### 5번문제"
   ]
  },
  {
   "cell_type": "code",
   "execution_count": 88,
   "metadata": {},
   "outputs": [
    {
     "name": "stdout",
     "output_type": "stream",
     "text": [
      "3\n",
      "6\n",
      "9\n",
      "12\n",
      "15\n",
      "18\n",
      "21\n",
      "24\n",
      "27\n"
     ]
    }
   ],
   "source": [
    "# 5번문제\n",
    "x = int(input('출력할 단을 입력하세요'))\n",
    "if x <= 9 :\n",
    "    for y in range(1,10):\n",
    "        print(x*y)\n",
    "else:\n",
    "    print('9이하의 수를 입력해주세요')"
   ]
  }
 ],
 "metadata": {
  "interpreter": {
   "hash": "38ae1ba9371524da054e8e3fbefd778d16b5a8ac7937a3f395010f627bb73919"
  },
  "kernelspec": {
   "display_name": "Python 3.9.12 64-bit",
   "language": "python",
   "name": "python3"
  },
  "language_info": {
   "codemirror_mode": {
    "name": "ipython",
    "version": 3
   },
   "file_extension": ".py",
   "mimetype": "text/x-python",
   "name": "python",
   "nbconvert_exporter": "python",
   "pygments_lexer": "ipython3",
   "version": "3.9.12"
  },
  "orig_nbformat": 4
 },
 "nbformat": 4,
 "nbformat_minor": 2
}
